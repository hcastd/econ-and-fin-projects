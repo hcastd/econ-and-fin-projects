{
 "cells": [
  {
   "cell_type": "markdown",
   "metadata": {},
   "source": [
    "# ***Inflation and interest rates: analysing and modeling for Brazil***"
   ]
  },
  {
   "cell_type": "markdown",
   "metadata": {},
   "source": [
    "## Objectives"
   ]
  },
  {
   "cell_type": "markdown",
   "metadata": {},
   "source": [
    "Collect initial data on brazilian inflation (measured by IPCA, off. price index) and interest rate (SELIC, main tax of BR economy). Then, we will collect a series of other data to estimate and model the relationships between SELIC and IPCA, controlling for other variables."
   ]
  },
  {
   "cell_type": "markdown",
   "metadata": {},
   "source": [
    "## Data base"
   ]
  },
  {
   "cell_type": "markdown",
   "metadata": {},
   "source": [
    "IBGE, Ipea Data, BCB, and others."
   ]
  },
  {
   "cell_type": "markdown",
   "metadata": {},
   "source": [
    "## References"
   ]
  },
  {
   "cell_type": "markdown",
   "metadata": {},
   "source": [
    "Books on Macroeconomic Theory and Econometrics (for models):\n",
    "\n",
    "    - FROYEN, Richard T. Macroeconomics: Theories and policies. 2013.\n",
    "\n",
    "    - BLANCHARD, Olivier. Macroeconomics. Pearson Higher Education, 2013.\n",
    "\n",
    "    - WOOLDRIDGE, Jeffrey M. Introductory econometrics: A modern approach. Cengage learning, 2015.\n",
    "\n",
    "Codes, pages, tutorials, documentations, etc:\n",
    "\n",
    "- Doc. python-bcb: https://pypi.org/project/python-bcb/\n",
    "\n",
    "- Doc. Sidra Python (sidrapy): https://github.com/AlanTaranti/sidrapy\n",
    "\n",
    "- Análise Macro (example data pooling): https://analisemacro.com.br/economia/indicadores/coletando-dados-da-selic-com-o-python/\n",
    "\n",
    "- Colab code: https://colab.research.google.com/drive/1_t6-vO_Mv1Iv_4Wykexeb81FJkOPY-CI"
   ]
  },
  {
   "cell_type": "markdown",
   "metadata": {},
   "source": [
    "# Importing packages and API's\n",
    "---"
   ]
  },
  {
   "cell_type": "code",
   "execution_count": 2,
   "metadata": {},
   "outputs": [],
   "source": [
    "# %pip install python-bcb\n",
    "# %pip install sidrapy"
   ]
  },
  {
   "cell_type": "code",
   "execution_count": 3,
   "metadata": {},
   "outputs": [],
   "source": [
    "import pandas as pd\n",
    "import numpy as np\n",
    "import matplotlib.pyplot as plt\n",
    "import datetime as dt\n",
    "\n",
    "from bcb import sgs # Importing the module for Time Series Analysis of BCB\n",
    "import sidrapy"
   ]
  },
  {
   "cell_type": "markdown",
   "metadata": {},
   "source": [
    "# Getting and initially exploring data on SELIC and IPCA"
   ]
  },
  {
   "cell_type": "markdown",
   "metadata": {},
   "source": [
    "Searching for time series on Selic Meta (rate defined at COPOM) and for IPCA full month-to-month index. \n",
    "\n",
    "Series consulting codes at BCB:\n",
    "\n",
    "- Selic Meta: 432\n",
    "\n",
    "- IPCA total: 433\n",
    "\n",
    "Series consulting codes at SIDRA IBGE:\n",
    "\n",
    "- IPCA tabela geral: 1737\n",
    "\n",
    "For inflation measured by IPCA, we use data from SIDRA, because series for 12 month variations month to month is already calculated, avoiding a code part to make this manipulation."
   ]
  },
  {
   "cell_type": "code",
   "execution_count": 4,
   "metadata": {},
   "outputs": [
    {
     "name": "stdout",
     "output_type": "stream",
     "text": [
      "        Date  selic\n",
      "0 2010-01-01   8.75\n",
      "1 2010-01-02   8.75\n",
      "2 2010-01-03   8.75\n",
      "3 2010-01-04   8.75\n",
      "4 2010-01-05   8.75\n",
      "Index(['Date', 'selic'], dtype='object')\n",
      "RangeIndex(start=0, stop=4556, step=1)\n"
     ]
    }
   ],
   "source": [
    "selic_meta = sgs.get(('selic', 432), start='2010-01-01')\n",
    "selic_meta.reset_index(inplace=True)\n",
    "print(selic_meta.head(), selic_meta.columns, selic_meta.index, sep='\\n')"
   ]
  },
  {
   "cell_type": "markdown",
   "metadata": {},
   "source": [
    "Collecting IPCA series (1737), at country level (1), in all country (all), at month, 3 months cumulated, 6 months cumulated and 12 months cumulated (63, 69, 2263, 2264, 2265)."
   ]
  },
  {
   "cell_type": "code",
   "execution_count": 5,
   "metadata": {},
   "outputs": [],
   "source": [
    "ipca_raw = sidrapy.get_table(\n",
    "    table_code='1737',\n",
    "    territorial_level='1',\n",
    "    ibge_territorial_code='all',\n",
    "    variable='63,69,2263,2264,2265',\n",
    "    period='last%20472'\n",
    ")"
   ]
  },
  {
   "cell_type": "code",
   "execution_count": 6,
   "metadata": {},
   "outputs": [
    {
     "data": {
      "text/html": [
       "<div>\n",
       "<style scoped>\n",
       "    .dataframe tbody tr th:only-of-type {\n",
       "        vertical-align: middle;\n",
       "    }\n",
       "\n",
       "    .dataframe tbody tr th {\n",
       "        vertical-align: top;\n",
       "    }\n",
       "\n",
       "    .dataframe thead th {\n",
       "        text-align: right;\n",
       "    }\n",
       "</style>\n",
       "<table border=\"1\" class=\"dataframe\">\n",
       "  <thead>\n",
       "    <tr style=\"text-align: right;\">\n",
       "      <th></th>\n",
       "      <th>value</th>\n",
       "      <th>date</th>\n",
       "      <th>variable</th>\n",
       "    </tr>\n",
       "  </thead>\n",
       "  <tbody>\n",
       "    <tr>\n",
       "      <th>1616</th>\n",
       "      <td>0.75</td>\n",
       "      <td>2010-01-01</td>\n",
       "      <td>Var. mensal (%)</td>\n",
       "    </tr>\n",
       "    <tr>\n",
       "      <th>1617</th>\n",
       "      <td>0.75</td>\n",
       "      <td>2010-01-01</td>\n",
       "      <td>Var. acumulada no ano (%)</td>\n",
       "    </tr>\n",
       "    <tr>\n",
       "      <th>1618</th>\n",
       "      <td>1.54</td>\n",
       "      <td>2010-01-01</td>\n",
       "      <td>Var. MM3M (%)</td>\n",
       "    </tr>\n",
       "    <tr>\n",
       "      <th>1619</th>\n",
       "      <td>2.46</td>\n",
       "      <td>2010-01-01</td>\n",
       "      <td>Var. MM6M (%)</td>\n",
       "    </tr>\n",
       "    <tr>\n",
       "      <th>1620</th>\n",
       "      <td>4.59</td>\n",
       "      <td>2010-01-01</td>\n",
       "      <td>Var. MM12M (%)</td>\n",
       "    </tr>\n",
       "    <tr>\n",
       "      <th>...</th>\n",
       "      <td>...</td>\n",
       "      <td>...</td>\n",
       "      <td>...</td>\n",
       "    </tr>\n",
       "    <tr>\n",
       "      <th>2356</th>\n",
       "      <td>0.47</td>\n",
       "      <td>2022-05-01</td>\n",
       "      <td>Var. mensal (%)</td>\n",
       "    </tr>\n",
       "    <tr>\n",
       "      <th>2357</th>\n",
       "      <td>4.78</td>\n",
       "      <td>2022-05-01</td>\n",
       "      <td>Var. acumulada no ano (%)</td>\n",
       "    </tr>\n",
       "    <tr>\n",
       "      <th>2358</th>\n",
       "      <td>3.18</td>\n",
       "      <td>2022-05-01</td>\n",
       "      <td>Var. MM3M (%)</td>\n",
       "    </tr>\n",
       "    <tr>\n",
       "      <th>2359</th>\n",
       "      <td>5.55</td>\n",
       "      <td>2022-05-01</td>\n",
       "      <td>Var. MM6M (%)</td>\n",
       "    </tr>\n",
       "    <tr>\n",
       "      <th>2360</th>\n",
       "      <td>11.73</td>\n",
       "      <td>2022-05-01</td>\n",
       "      <td>Var. MM12M (%)</td>\n",
       "    </tr>\n",
       "  </tbody>\n",
       "</table>\n",
       "<p>745 rows × 3 columns</p>\n",
       "</div>"
      ],
      "text/plain": [
       "      value       date                   variable\n",
       "1616   0.75 2010-01-01            Var. mensal (%)\n",
       "1617   0.75 2010-01-01  Var. acumulada no ano (%)\n",
       "1618   1.54 2010-01-01              Var. MM3M (%)\n",
       "1619   2.46 2010-01-01              Var. MM6M (%)\n",
       "1620   4.59 2010-01-01             Var. MM12M (%)\n",
       "...     ...        ...                        ...\n",
       "2356   0.47 2022-05-01            Var. mensal (%)\n",
       "2357   4.78 2022-05-01  Var. acumulada no ano (%)\n",
       "2358   3.18 2022-05-01              Var. MM3M (%)\n",
       "2359   5.55 2022-05-01              Var. MM6M (%)\n",
       "2360  11.73 2022-05-01             Var. MM12M (%)\n",
       "\n",
       "[745 rows x 3 columns]"
      ]
     },
     "execution_count": 6,
     "metadata": {},
     "output_type": "execute_result"
    }
   ],
   "source": [
    "ipca =  (\n",
    "    ipca_raw\n",
    "    .loc[1:,['V', 'D2C', 'D3N']]\n",
    "    .rename(columns = {'V': 'value',\n",
    "                       'D2C': 'date',\n",
    "                       'D3N': 'variable'}\n",
    "            )\n",
    "    .assign(variable = lambda x: x['variable'].replace({'IPCA - Variação mensal' : 'Var. mensal (%)',\n",
    "                                                        'IPCA - Variação acumulada no ano': 'Var. acumulada no ano (%)', \n",
    "                                                        'IPCA - Variação acumulada em 3 meses' : 'Var. MM3M (%)',\n",
    "                                                        'IPCA - Variação acumulada em 6 meses': 'Var. MM6M (%)',\n",
    "                                                        'IPCA - Variação acumulada em 12 meses' : 'Var. MM12M (%)'}),\n",
    "            date  = lambda x: pd.to_datetime(x['date'],\n",
    "                                              format = \"%Y%m\"),\n",
    "            value = lambda x: x['value'].astype(float)\n",
    "           )\n",
    "    .pipe(lambda x: x.loc[x.date > '2009-12-01']\n",
    "          )\n",
    "        )\n",
    "ipca"
   ]
  },
  {
   "cell_type": "code",
   "execution_count": 7,
   "metadata": {},
   "outputs": [
    {
     "name": "stderr",
     "output_type": "stream",
     "text": [
      "C:\\Users\\henri\\AppData\\Local\\Packages\\PythonSoftwareFoundation.Python.3.9_qbz5n2kfra8p0\\LocalCache\\local-packages\\Python39\\site-packages\\pandas\\core\\frame.py:4906: SettingWithCopyWarning: \n",
      "A value is trying to be set on a copy of a slice from a DataFrame\n",
      "\n",
      "See the caveats in the documentation: https://pandas.pydata.org/pandas-docs/stable/user_guide/indexing.html#returning-a-view-versus-a-copy\n",
      "  return super().drop(\n"
     ]
    },
    {
     "data": {
      "text/html": [
       "<div>\n",
       "<style scoped>\n",
       "    .dataframe tbody tr th:only-of-type {\n",
       "        vertical-align: middle;\n",
       "    }\n",
       "\n",
       "    .dataframe tbody tr th {\n",
       "        vertical-align: top;\n",
       "    }\n",
       "\n",
       "    .dataframe thead th {\n",
       "        text-align: right;\n",
       "    }\n",
       "</style>\n",
       "<table border=\"1\" class=\"dataframe\">\n",
       "  <thead>\n",
       "    <tr style=\"text-align: right;\">\n",
       "      <th></th>\n",
       "      <th>ipca</th>\n",
       "      <th>Date</th>\n",
       "    </tr>\n",
       "  </thead>\n",
       "  <tbody>\n",
       "    <tr>\n",
       "      <th>0</th>\n",
       "      <td>4.59</td>\n",
       "      <td>2010-01-01</td>\n",
       "    </tr>\n",
       "    <tr>\n",
       "      <th>1</th>\n",
       "      <td>4.83</td>\n",
       "      <td>2010-02-01</td>\n",
       "    </tr>\n",
       "    <tr>\n",
       "      <th>2</th>\n",
       "      <td>5.17</td>\n",
       "      <td>2010-03-01</td>\n",
       "    </tr>\n",
       "    <tr>\n",
       "      <th>3</th>\n",
       "      <td>5.26</td>\n",
       "      <td>2010-04-01</td>\n",
       "    </tr>\n",
       "    <tr>\n",
       "      <th>4</th>\n",
       "      <td>5.22</td>\n",
       "      <td>2010-05-01</td>\n",
       "    </tr>\n",
       "  </tbody>\n",
       "</table>\n",
       "</div>"
      ],
      "text/plain": [
       "   ipca       Date\n",
       "0  4.59 2010-01-01\n",
       "1  4.83 2010-02-01\n",
       "2  5.17 2010-03-01\n",
       "3  5.26 2010-04-01\n",
       "4  5.22 2010-05-01"
      ]
     },
     "execution_count": 7,
     "metadata": {},
     "output_type": "execute_result"
    }
   ],
   "source": [
    "ipca_12m = ipca[ipca.variable == 'Var. MM12M (%)']\n",
    "ipca_12m.reset_index(inplace=True)\n",
    "ipca_12m.drop(['variable', 'index'], axis=1, inplace=True)\n",
    "ipca_12m.columns = ['ipca', 'Date']\n",
    "ipca_12m.head()"
   ]
  },
  {
   "cell_type": "code",
   "execution_count": 8,
   "metadata": {},
   "outputs": [
    {
     "data": {
      "text/plain": [
       "\"ipca_full = sgs.get(('ipca', 433), start='')\\nprint(ipca_full.head(), ipca_full.columns, ipca_full.index, sep='\\n')\""
      ]
     },
     "execution_count": 8,
     "metadata": {},
     "output_type": "execute_result"
    }
   ],
   "source": [
    "'''ipca_full = sgs.get(('ipca', 433), start='')\n",
    "print(ipca_full.head(), ipca_full.columns, ipca_full.index, sep='\\n')'''"
   ]
  },
  {
   "cell_type": "markdown",
   "metadata": {},
   "source": [
    "## Visualization"
   ]
  },
  {
   "cell_type": "code",
   "execution_count": 9,
   "metadata": {},
   "outputs": [
    {
     "name": "stdout",
     "output_type": "stream",
     "text": [
      "(4556, 2) (149, 2)\n"
     ]
    }
   ],
   "source": [
    "print(selic_meta.shape, ipca_12m.shape)"
   ]
  },
  {
   "cell_type": "code",
   "execution_count": 10,
   "metadata": {},
   "outputs": [
    {
     "data": {
      "text/plain": [
       "Text(0, 0.5, 'Value p.p')"
      ]
     },
     "execution_count": 10,
     "metadata": {},
     "output_type": "execute_result"
    },
    {
     "data": {
      "image/png": "[encoded data removed]",
      "text/plain": [
       "<Figure size 1152x576 with 1 Axes>"
      ]
     },
     "metadata": {
      "needs_background": "light"
     },
     "output_type": "display_data"
    }
   ],
   "source": [
    "plt.figure(figsize=(16,8))\n",
    "plt.plot(selic_meta.Date, selic_meta.selic, label='Selic Meta a.a %')\n",
    "plt.plot(ipca_12m.Date, ipca_12m.ipca, label='Full IPCA - m.m %')\n",
    "plt.title('IPCA X Selic Meta', fontsize=16, loc='left')\n",
    "plt.xlabel('Date', fontsize=14)\n",
    "plt.ylabel('Value p.p', fontsize=14)"
   ]
  },
  {
   "cell_type": "markdown",
   "metadata": {},
   "source": [
    "# Data manipulations\n",
    "---"
   ]
  },
  {
   "cell_type": "code",
   "execution_count": 11,
   "metadata": {},
   "outputs": [
    {
     "data": {
      "text/html": [
       "<div>\n",
       "<style scoped>\n",
       "    .dataframe tbody tr th:only-of-type {\n",
       "        vertical-align: middle;\n",
       "    }\n",
       "\n",
       "    .dataframe tbody tr th {\n",
       "        vertical-align: top;\n",
       "    }\n",
       "\n",
       "    .dataframe thead th {\n",
       "        text-align: right;\n",
       "    }\n",
       "</style>\n",
       "<table border=\"1\" class=\"dataframe\">\n",
       "  <thead>\n",
       "    <tr style=\"text-align: right;\">\n",
       "      <th></th>\n",
       "      <th>date</th>\n",
       "      <th>ipca</th>\n",
       "      <th>selic</th>\n",
       "    </tr>\n",
       "  </thead>\n",
       "  <tbody>\n",
       "    <tr>\n",
       "      <th>0</th>\n",
       "      <td>2010-01-01</td>\n",
       "      <td>4.59</td>\n",
       "      <td>8.75</td>\n",
       "    </tr>\n",
       "    <tr>\n",
       "      <th>1</th>\n",
       "      <td>2010-02-01</td>\n",
       "      <td>4.83</td>\n",
       "      <td>8.75</td>\n",
       "    </tr>\n",
       "    <tr>\n",
       "      <th>2</th>\n",
       "      <td>2010-03-01</td>\n",
       "      <td>5.17</td>\n",
       "      <td>8.75</td>\n",
       "    </tr>\n",
       "    <tr>\n",
       "      <th>3</th>\n",
       "      <td>2010-04-01</td>\n",
       "      <td>5.26</td>\n",
       "      <td>8.75</td>\n",
       "    </tr>\n",
       "    <tr>\n",
       "      <th>4</th>\n",
       "      <td>2010-05-01</td>\n",
       "      <td>5.22</td>\n",
       "      <td>9.50</td>\n",
       "    </tr>\n",
       "    <tr>\n",
       "      <th>...</th>\n",
       "      <td>...</td>\n",
       "      <td>...</td>\n",
       "      <td>...</td>\n",
       "    </tr>\n",
       "    <tr>\n",
       "      <th>144</th>\n",
       "      <td>2022-01-01</td>\n",
       "      <td>10.38</td>\n",
       "      <td>9.25</td>\n",
       "    </tr>\n",
       "    <tr>\n",
       "      <th>145</th>\n",
       "      <td>2022-02-01</td>\n",
       "      <td>10.54</td>\n",
       "      <td>9.25</td>\n",
       "    </tr>\n",
       "    <tr>\n",
       "      <th>146</th>\n",
       "      <td>2022-03-01</td>\n",
       "      <td>11.30</td>\n",
       "      <td>10.75</td>\n",
       "    </tr>\n",
       "    <tr>\n",
       "      <th>147</th>\n",
       "      <td>2022-04-01</td>\n",
       "      <td>12.13</td>\n",
       "      <td>11.75</td>\n",
       "    </tr>\n",
       "    <tr>\n",
       "      <th>148</th>\n",
       "      <td>2022-05-01</td>\n",
       "      <td>11.73</td>\n",
       "      <td>11.75</td>\n",
       "    </tr>\n",
       "  </tbody>\n",
       "</table>\n",
       "<p>149 rows × 3 columns</p>\n",
       "</div>"
      ],
      "text/plain": [
       "          date   ipca  selic\n",
       "0   2010-01-01   4.59   8.75\n",
       "1   2010-02-01   4.83   8.75\n",
       "2   2010-03-01   5.17   8.75\n",
       "3   2010-04-01   5.26   8.75\n",
       "4   2010-05-01   5.22   9.50\n",
       "..         ...    ...    ...\n",
       "144 2022-01-01  10.38   9.25\n",
       "145 2022-02-01  10.54   9.25\n",
       "146 2022-03-01  11.30  10.75\n",
       "147 2022-04-01  12.13  11.75\n",
       "148 2022-05-01  11.73  11.75\n",
       "\n",
       "[149 rows x 3 columns]"
      ]
     },
     "execution_count": 11,
     "metadata": {},
     "output_type": "execute_result"
    }
   ],
   "source": [
    "monetary_data = pd.merge(ipca_12m, selic_meta, how='inner', left_on='Date', right_on='Date')\n",
    "date = monetary_data.pop('Date')\n",
    "monetary_data.insert(0, 'date', date)\n",
    "monetary_data"
   ]
  },
  {
   "cell_type": "markdown",
   "metadata": {},
   "source": [
    "## Visualization"
   ]
  },
  {
   "cell_type": "code",
   "execution_count": 12,
   "metadata": {},
   "outputs": [
    {
     "data": {
      "image/png": "[encoded data removed]",
      "text/plain": [
       "<Figure size 1152x576 with 1 Axes>"
      ]
     },
     "metadata": {
      "needs_background": "light"
     },
     "output_type": "display_data"
    }
   ],
   "source": [
    "plt.figure(figsize=(16,8))\n",
    "plt.plot(monetary_data.date, monetary_data.selic, label='Selic Meta a.a %')\n",
    "plt.plot(monetary_data.date, monetary_data.ipca, label='Full IPCA - m.m %')\n",
    "plt.fill_between(monetary_data.date, monetary_data.selic, monetary_data.ipca, color='k', alpha=0.2)\n",
    "plt.title('IPCA X Selic Meta X taxa real de juros', fontsize=16, loc='left')\n",
    "plt.xlabel('Date', fontsize=14)\n",
    "plt.ylabel('Value p.p', fontsize=14)\n",
    "plt.show()"
   ]
  },
  {
   "cell_type": "markdown",
   "metadata": {},
   "source": [
    "# Simple Regression on interest and inflation rates\n",
    "---"
   ]
  },
  {
   "cell_type": "code",
   "execution_count": null,
   "metadata": {},
   "outputs": [],
   "source": []
  },
  {
   "cell_type": "markdown",
   "metadata": {},
   "source": [
    "# Collecting more data to nowcast GDP\n",
    "---"
   ]
  },
  {
   "cell_type": "markdown",
   "metadata": {},
   "source": [
    "## Description"
   ]
  },
  {
   "cell_type": "markdown",
   "metadata": {},
   "source": [
    "Em primeiro momento, serão coletadas 10 variáveis, além da variável-alvo, o PIB, para fazermos as previsões. As variáveis selecionadas estão em linha com a intuição, teoria e pesquisa aplicada em macroeconomia, e serão:\n",
    "\n",
    "1. PIB;\n",
    "\n",
    "2. Taxa da inflação oficial (IPCA);\n",
    "\n",
    "3. Taxa básica de juros da economia (Selic);\n",
    "\n",
    "4. Produção Industrial;\n",
    "\n",
    "5. Índice Bovespa;\n",
    "\n",
    "6. Horas trabalhadas na indústria;\n",
    "\n",
    "7. Confiança do Empresario;\n",
    "\n",
    "8. Balança comercial - Saldo\n",
    "\n",
    "9. Consumo de energia - Industria;\n",
    "\n",
    "10. Vendas nominais - Varejo;\n",
    "\n",
    "11. Base monetária (média nos dias úteis do mês)"
   ]
  },
  {
   "cell_type": "markdown",
   "metadata": {},
   "source": [
    "## PIB (Índice)"
   ]
  },
  {
   "cell_type": "code",
   "execution_count": null,
   "metadata": {},
   "outputs": [],
   "source": []
  },
  {
   "cell_type": "markdown",
   "metadata": {},
   "source": [
    "## IPCA (var 12M mês a mês)"
   ]
  },
  {
   "cell_type": "code",
   "execution_count": 19,
   "metadata": {},
   "outputs": [
    {
     "data": {
      "text/html": [
       "<div>\n",
       "<style scoped>\n",
       "    .dataframe tbody tr th:only-of-type {\n",
       "        vertical-align: middle;\n",
       "    }\n",
       "\n",
       "    .dataframe tbody tr th {\n",
       "        vertical-align: top;\n",
       "    }\n",
       "\n",
       "    .dataframe thead th {\n",
       "        text-align: right;\n",
       "    }\n",
       "</style>\n",
       "<table border=\"1\" class=\"dataframe\">\n",
       "  <thead>\n",
       "    <tr style=\"text-align: right;\">\n",
       "      <th></th>\n",
       "      <th>value</th>\n",
       "      <th>date</th>\n",
       "      <th>variable</th>\n",
       "    </tr>\n",
       "  </thead>\n",
       "  <tbody>\n",
       "    <tr>\n",
       "      <th>1016</th>\n",
       "      <td>0.62</td>\n",
       "      <td>2000-01-01</td>\n",
       "      <td>Var. mensal (%)</td>\n",
       "    </tr>\n",
       "    <tr>\n",
       "      <th>1017</th>\n",
       "      <td>0.62</td>\n",
       "      <td>2000-01-01</td>\n",
       "      <td>Var. acumulada no ano (%)</td>\n",
       "    </tr>\n",
       "    <tr>\n",
       "      <th>1018</th>\n",
       "      <td>2.19</td>\n",
       "      <td>2000-01-01</td>\n",
       "      <td>Var. MM3M (%)</td>\n",
       "    </tr>\n",
       "    <tr>\n",
       "      <th>1019</th>\n",
       "      <td>4.30</td>\n",
       "      <td>2000-01-01</td>\n",
       "      <td>Var. MM6M (%)</td>\n",
       "    </tr>\n",
       "    <tr>\n",
       "      <th>1020</th>\n",
       "      <td>8.85</td>\n",
       "      <td>2000-01-01</td>\n",
       "      <td>Var. MM12M (%)</td>\n",
       "    </tr>\n",
       "    <tr>\n",
       "      <th>...</th>\n",
       "      <td>...</td>\n",
       "      <td>...</td>\n",
       "      <td>...</td>\n",
       "    </tr>\n",
       "    <tr>\n",
       "      <th>2356</th>\n",
       "      <td>0.47</td>\n",
       "      <td>2022-05-01</td>\n",
       "      <td>Var. mensal (%)</td>\n",
       "    </tr>\n",
       "    <tr>\n",
       "      <th>2357</th>\n",
       "      <td>4.78</td>\n",
       "      <td>2022-05-01</td>\n",
       "      <td>Var. acumulada no ano (%)</td>\n",
       "    </tr>\n",
       "    <tr>\n",
       "      <th>2358</th>\n",
       "      <td>3.18</td>\n",
       "      <td>2022-05-01</td>\n",
       "      <td>Var. MM3M (%)</td>\n",
       "    </tr>\n",
       "    <tr>\n",
       "      <th>2359</th>\n",
       "      <td>5.55</td>\n",
       "      <td>2022-05-01</td>\n",
       "      <td>Var. MM6M (%)</td>\n",
       "    </tr>\n",
       "    <tr>\n",
       "      <th>2360</th>\n",
       "      <td>11.73</td>\n",
       "      <td>2022-05-01</td>\n",
       "      <td>Var. MM12M (%)</td>\n",
       "    </tr>\n",
       "  </tbody>\n",
       "</table>\n",
       "<p>1345 rows × 3 columns</p>\n",
       "</div>"
      ],
      "text/plain": [
       "      value       date                   variable\n",
       "1016   0.62 2000-01-01            Var. mensal (%)\n",
       "1017   0.62 2000-01-01  Var. acumulada no ano (%)\n",
       "1018   2.19 2000-01-01              Var. MM3M (%)\n",
       "1019   4.30 2000-01-01              Var. MM6M (%)\n",
       "1020   8.85 2000-01-01             Var. MM12M (%)\n",
       "...     ...        ...                        ...\n",
       "2356   0.47 2022-05-01            Var. mensal (%)\n",
       "2357   4.78 2022-05-01  Var. acumulada no ano (%)\n",
       "2358   3.18 2022-05-01              Var. MM3M (%)\n",
       "2359   5.55 2022-05-01              Var. MM6M (%)\n",
       "2360  11.73 2022-05-01             Var. MM12M (%)\n",
       "\n",
       "[1345 rows x 3 columns]"
      ]
     },
     "execution_count": 19,
     "metadata": {},
     "output_type": "execute_result"
    }
   ],
   "source": [
    "ipca =  (\n",
    "    ipca_raw\n",
    "    .loc[1:,['V', 'D2C', 'D3N']]\n",
    "    .rename(columns = {'V': 'value',\n",
    "                       'D2C': 'date',\n",
    "                       'D3N': 'variable'}\n",
    "            )\n",
    "    .assign(variable = lambda x: x['variable'].replace({'IPCA - Variação mensal' : 'Var. mensal (%)',\n",
    "                                                        'IPCA - Variação acumulada no ano': 'Var. acumulada no ano (%)', \n",
    "                                                        'IPCA - Variação acumulada em 3 meses' : 'Var. MM3M (%)',\n",
    "                                                        'IPCA - Variação acumulada em 6 meses': 'Var. MM6M (%)',\n",
    "                                                        'IPCA - Variação acumulada em 12 meses' : 'Var. MM12M (%)'}),\n",
    "            date  = lambda x: pd.to_datetime(x['date'],\n",
    "                                              format = \"%Y%m\"),\n",
    "            value = lambda x: x['value'].astype(float)\n",
    "           )\n",
    "    .pipe(lambda x: x.loc[x.date > '1999-12-31']\n",
    "          )\n",
    "        )\n",
    "ipca"
   ]
  },
  {
   "cell_type": "code",
   "execution_count": 21,
   "metadata": {},
   "outputs": [
    {
     "name": "stdout",
     "output_type": "stream",
     "text": [
      "   ipca       Date\n",
      "0  8.85 2000-01-01\n",
      "1  7.86 2000-02-01\n",
      "2  6.92 2000-03-01\n",
      "3  6.77 2000-04-01\n",
      "4  6.47 2000-05-01\n"
     ]
    },
    {
     "name": "stderr",
     "output_type": "stream",
     "text": [
      "C:\\Users\\henri\\AppData\\Local\\Packages\\PythonSoftwareFoundation.Python.3.9_qbz5n2kfra8p0\\LocalCache\\local-packages\\Python39\\site-packages\\pandas\\core\\frame.py:4906: SettingWithCopyWarning: \n",
      "A value is trying to be set on a copy of a slice from a DataFrame\n",
      "\n",
      "See the caveats in the documentation: https://pandas.pydata.org/pandas-docs/stable/user_guide/indexing.html#returning-a-view-versus-a-copy\n",
      "  return super().drop(\n"
     ]
    }
   ],
   "source": [
    "ipca_12m = ipca[ipca.variable == 'Var. MM12M (%)']\n",
    "ipca_12m.reset_index(inplace=True)\n",
    "ipca_12m.drop(['variable', 'index'], axis=1, inplace=True)\n",
    "ipca_12m.columns = ['ipca', 'Date']\n",
    "print(ipca_12m.head())"
   ]
  },
  {
   "cell_type": "markdown",
   "metadata": {},
   "source": [
    "## Selic acumulada no mês (selic_mes)"
   ]
  },
  {
   "cell_type": "code",
   "execution_count": 18,
   "metadata": {},
   "outputs": [
    {
     "name": "stdout",
     "output_type": "stream",
     "text": [
      "        Date  selic_mes\n",
      "0 2000-01-01       1.46\n",
      "1 2000-02-01       1.45\n",
      "2 2000-03-01       1.45\n",
      "3 2000-04-01       1.30\n",
      "4 2000-05-01       1.49\n",
      "Index(['Date', 'selic_mes'], dtype='object')\n",
      "RangeIndex(start=0, stop=270, step=1)\n"
     ]
    }
   ],
   "source": [
    "selic_mes = sgs.get(('selic_mes', 4390), start='2000-01-01')\n",
    "selic_mes.reset_index(inplace=True)\n",
    "print(selic_mes.head(), selic_mes.columns, selic_mes.index, sep='\\n')"
   ]
  },
  {
   "cell_type": "code",
   "execution_count": null,
   "metadata": {},
   "outputs": [],
   "source": []
  }
 ],
 "metadata": {
  "kernelspec": {
   "display_name": "Python 3.9.10 64-bit (windows store)",
   "language": "python",
   "name": "python3"
  },
  "language_info": {
   "codemirror_mode": {
    "name": "ipython",
    "version": 3
   },
   "file_extension": ".py",
   "mimetype": "text/x-python",
   "name": "python",
   "nbconvert_exporter": "python",
   "pygments_lexer": "ipython3",
   "version": "3.9.13"
  },
  "orig_nbformat": 4,
  "vscode": {
   "interpreter": {
    "hash": "50b6e48135b3aa07383f5a96ff512fd2c607c6638df435f7ef5dee28b012c53c"
   }
  }
 },
 "nbformat": 4,
 "nbformat_minor": 2
}
